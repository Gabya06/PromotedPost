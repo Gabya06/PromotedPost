{
 "cells": [
  {
   "cell_type": "code",
   "execution_count": 1,
   "metadata": {
    "collapsed": true
   },
   "outputs": [],
   "source": [
    "import pandas as pd\n",
    "from sqlalchemy import *\n",
    "import sys\n",
    "import os\n",
    "import matplotlib.pyplot as pyplot\n",
    "from sklearn.utils import shuffle\n",
    "from sklearn import preprocessing, cross_validation, ensemble, linear_model, tree\n",
    "from sklearn.ensemble import RandomForestClassifier\n",
    "from sklearn.linear_model import LogisticRegression\n",
    "from sklearn.metrics import confusion_matrix, classification_report, roc_curve, auc\n",
    "import numpy as np\n",
    "import statsmodels.api as sm\n",
    "%matplotlib inline\n"
   ]
  },
  {
   "cell_type": "code",
   "execution_count": 2,
   "metadata": {
    "collapsed": true
   },
   "outputs": [],
   "source": [
    "db = create_engine('sqlite://///Users/Gabi/Dropbox/Shareablee/biomechanics/data/biomechanics-with-negatives201512v2.db')\n",
    "db.echo = True\n",
    "metadata = MetaData(db)"
   ]
  },
  {
   "cell_type": "code",
   "execution_count": 3,
   "metadata": {
    "collapsed": true
   },
   "outputs": [],
   "source": [
    "'''\n",
    "Fill in NA values\n",
    "1) using average for that group for that column\n",
    "2) using average of that column (this only happens if there s still NAs)\n",
    "3) option to delete columns with \"paid\" \n",
    "'''\n",
    "def clean(dat, threshold = 0.80, delete_paid = False):\n",
    "    dat = dat.copy()\n",
    "\n",
    "    dat.drop([c for c in dat if dat[c].isnull().sum()/nrows >.80], axis = 1, inplace=True)\n",
    "    if delete_paid:\n",
    "        dat.drop([x for x in dat.columns if 'paid' in x], axis = 1, inplace = True)\n",
    "    dat.facebook_page_id = dat.facebook_page_id.astype(np.str)\n",
    "    dat.name = dat.name.map(lambda x: x.lower())\n",
    "\n",
    "\n",
    "    cols_fill = [c for c in dat.columns if (dat[c].isnull().sum()/nrows < threshold) and (dat[c].isnull().sum()/nrows >0.00)]\n",
    "    for i in cols_fill:\n",
    "        dat[i].fillna(dat.groupby('facebook_post_id')[i].transform(\"mean\"), inplace = True)\n",
    "        dat[i].fillna(dat[i].mean(), inplace = True)\n",
    "    return dat\n",
    "\n",
    "'''\n",
    "helper function to get verticals\n",
    "output: 2 dictionaries: \n",
    "    1) page_id, vertical mapping\n",
    "    2) page_name, vertical mapping \n",
    "'''\n",
    "def get_verticals():\n",
    "    verticals = pd.read_table('~/Downloads/fb_account_info.txt')\n",
    "    verticals = verticals.drop_duplicates()\n",
    "    verticals.page_id = verticals.page_id.astype(np.str)\n",
    "    verticals.page_name = verticals.page_name.map(lambda x: x.lower())\n",
    "    sub = verticals[['page_id','page_name','vertical']].drop_duplicates()\n",
    "    sub.page_id = sub.page_id.astype(np.int)\n",
    "    sub.set_index('page_id', inplace=True)\n",
    "\n",
    "    dict_vert = dict(zip(sub.index, sub.vertical))\n",
    "    dict_names = dict(zip(sub.page_name.map(lambda x: x.split()[0].strip()), sub.vertical))\n",
    "    dict_names[\"huff/post50\"] = 'Publishing'\n",
    "    dict_names[\"huffpostde politik\"] = 'Publishing'\n",
    "    dict_names[\"johnson’s baby\"] = 'Consumer Goods'\n",
    "    return [dict_vert, dict_names]\n",
    "\n",
    "def plot_confusion_matrix(cm, title='Confusion matrix', cmap=pyplot.cm.Blues):\n",
    "    pyplot.imshow(cm, interpolation='nearest', cmap=cmap)\n",
    "    pyplot.title(title)\n",
    "    pyplot.colorbar()\n",
    "    tick_marks = np.arange(len(target_names))\n",
    "    pyplot.xticks(tick_marks, target_names, rotation=45)\n",
    "    pyplot.yticks(tick_marks, target_names)\n",
    "    pyplot.tight_layout()\n",
    "    pyplot.ylabel('True label')\n",
    "    pyplot.xlabel('Predicted label')\n",
    "\n",
    "\n",
    "'''\n",
    "helper function to nicely print confusion matrix\n",
    "'''\n",
    "def get_confusion_matrix(actual_y, predicted_y):\n",
    "    confusion_index =  ['0-Actual','1-Actual']\n",
    "    confusion_cols = ['0-Predicted','1-Predicted']\n",
    "    confusion_df = pd.DataFrame(confusion_matrix(actual_y, predicted_y), index = confusion_index, columns = confusion_cols)\n",
    "    return confusion_df"
   ]
  },
  {
   "cell_type": "code",
   "execution_count": 4,
   "metadata": {
    "collapsed": false
   },
   "outputs": [
    {
     "name": "stdout",
     "output_type": "stream",
     "text": [
      "2016-05-07 23:26:22,875 INFO sqlalchemy.engine.base.Engine SELECT CAST('test plain returns' AS VARCHAR(60)) AS anon_1\n",
      "2016-05-07 23:26:22,876 INFO sqlalchemy.engine.base.Engine ()\n",
      "2016-05-07 23:26:22,878 INFO sqlalchemy.engine.base.Engine SELECT CAST('test unicode returns' AS VARCHAR(60)) AS anon_1\n",
      "2016-05-07 23:26:22,878 INFO sqlalchemy.engine.base.Engine ()\n",
      "2016-05-07 23:26:22,880 INFO sqlalchemy.engine.base.Engine select p.id, p.facebook_page_id, p.name, po.page_id, po.facebook_post_id, ps.impressions_paid_unique, ps.impressions_fan_paid_unique, ps.impressions_fan_unique, ps.impressions_organic_unique, ps.impressions_by_story_type_unique_other, ps.consumptions_by_type_unique_link_clicks, ps.consumptions_by_type_unique_photo_view, ps.consumptions_by_type_unique_video_play, ps.consumptions_by_type_unique_other_clicks, ps.consumptions_unique, ps.negative_feedback_by_type_unique_hide_clicks, ps.negative_feedback_by_type_unique_hide_all_clicks, ps.negative_feedback_unique, ps.video_views_paid_unique, ps.video_views_organic_unique, ps.video_complete_views_organic_unique, ps.video_complete_views_paid_unique, CASE  WHEN ps.impressions_paid_unique > 0 THEN 1 ELSE 0 END as is_promoted from pages as p inner join posts as po on p.id = po.page_id inner join post_insights as ps on ps.post_id = po.id\n",
      "2016-05-07 23:26:22,881 INFO sqlalchemy.engine.base.Engine ()\n"
     ]
    }
   ],
   "source": [
    "qry_joins = 'select p.id, p.facebook_page_id, p.name, po.page_id, po.facebook_post_id, \\\n",
    "ps.impressions_paid_unique, ps.impressions_fan_paid_unique, ps.impressions_fan_unique, ps.impressions_organic_unique, \\\n",
    "ps.impressions_by_story_type_unique_other, \\\n",
    "ps.consumptions_by_type_unique_link_clicks, ps.consumptions_by_type_unique_photo_view, ps.consumptions_by_type_unique_video_play, \\\n",
    "ps.consumptions_by_type_unique_other_clicks, ps.consumptions_unique, \\\n",
    "ps.negative_feedback_by_type_unique_hide_clicks, ps.negative_feedback_by_type_unique_hide_all_clicks, ps.negative_feedback_unique, \\\n",
    "ps.video_views_paid_unique, ps.video_views_organic_unique, ps.video_complete_views_organic_unique, ps.video_complete_views_paid_unique, \\\n",
    "CASE  WHEN ps.impressions_paid_unique > 0 THEN 1 ELSE 0 END as is_promoted \\\n",
    "from pages as p inner join posts as po on p.id = po.page_id inner join post_insights as ps on ps.post_id = po.id'\n",
    "\n",
    "# data from posts_insights, posts, and pages \n",
    "df_joined = pd.read_sql_query(qry_joins, con = db)\n"
   ]
  },
  {
   "cell_type": "code",
   "execution_count": 5,
   "metadata": {
    "collapsed": false
   },
   "outputs": [
    {
     "data": {
      "text/plain": [
       "id                                                  0.000000\n",
       "facebook_page_id                                    0.000000\n",
       "name                                                0.000000\n",
       "page_id                                             0.000000\n",
       "facebook_post_id                                    0.000000\n",
       "impressions_paid_unique                             0.012109\n",
       "impressions_fan_paid_unique                         0.012109\n",
       "impressions_fan_unique                              0.012109\n",
       "impressions_organic_unique                          0.012109\n",
       "impressions_by_story_type_unique_other              0.035204\n",
       "consumptions_by_type_unique_link_clicks             0.106341\n",
       "consumptions_by_type_unique_photo_view              0.420695\n",
       "consumptions_by_type_unique_video_play              0.872761\n",
       "consumptions_by_type_unique_other_clicks            0.024472\n",
       "consumptions_unique                                 0.012109\n",
       "negative_feedback_by_type_unique_hide_clicks        0.138884\n",
       "negative_feedback_by_type_unique_hide_all_clicks    0.361482\n",
       "negative_feedback_unique                            0.012109\n",
       "video_views_paid_unique                             0.216060\n",
       "video_views_organic_unique                          0.216060\n",
       "video_complete_views_organic_unique                 0.216060\n",
       "video_complete_views_paid_unique                    0.216060\n",
       "is_promoted                                         0.000000\n",
       "dtype: float64"
      ]
     },
     "execution_count": 5,
     "metadata": {},
     "output_type": "execute_result"
    }
   ],
   "source": [
    "# check nulls in each column\n",
    "nrows = np.float(df_joined.shape[0])\n",
    "df_joined.isnull().sum()/nrows"
   ]
  },
  {
   "cell_type": "code",
   "execution_count": 6,
   "metadata": {
    "collapsed": false
   },
   "outputs": [
    {
     "data": {
      "image/png": "[encoded data removed]",
      "text/plain": [
       "<matplotlib.figure.Figure at 0x118368050>"
      ]
     },
     "metadata": {},
     "output_type": "display_data"
    }
   ],
   "source": [
    "'''\n",
    "Data Exploration: what's in the columns? Which columns have the most useful information?\n",
    "'''\n",
    "\n",
    "sub_dat = df_joined.ix[:, 5:8]\n",
    "fig, axes = pyplot.subplots(nrows=1, ncols=3, figsize=(10,6), sharey=True)\n",
    "for i, var in enumerate(sub_dat.columns):\n",
    "    sub_dat[[i]].plot(ax = axes[i], title = var, legend ='')\n",
    "fig.subplots_adjust(hspace=0.25, wspace=0.25)\n",
    "pyplot.show()\n"
   ]
  },
  {
   "cell_type": "code",
   "execution_count": 7,
   "metadata": {
    "collapsed": false
   },
   "outputs": [
    {
     "data": {
      "image/png": "[encoded data removed]",
      "text/plain": [
       "<matplotlib.figure.Figure at 0x118368850>"
      ]
     },
     "metadata": {},
     "output_type": "display_data"
    }
   ],
   "source": [
    "sub_dat = df_joined.ix[:, 10:15]\n",
    "fig, axes = pyplot.subplots(nrows=1, ncols=5, figsize=(12,6), sharey=True)\n",
    "for i, var in enumerate(sub_dat.columns):\n",
    "    l = var.replace('consumptions', 'cons').replace('impressions','imp').replace('by_','').replace('unique','un') \n",
    "    sub_dat[[i]].plot(ax = axes[i], title = l, legend ='')\n",
    "fig.subplots_adjust(hspace=0.5, wspace=0.5)\n",
    "pyplot.show()"
   ]
  },
  {
   "cell_type": "code",
   "execution_count": 8,
   "metadata": {
    "collapsed": false
   },
   "outputs": [
    {
     "data": {
      "image/png": "[encoded data removed]",
      "text/plain": [
       "<matplotlib.figure.Figure at 0x11c473c50>"
      ]
     },
     "metadata": {},
     "output_type": "display_data"
    }
   ],
   "source": [
    "sub_dat = df_joined.ix[:, 15:18]\n",
    "fig, axes = pyplot.subplots(nrows=1, ncols=3, figsize=(12,6), sharey=True)\n",
    "for i, var in enumerate(sub_dat.columns):\n",
    "    l = var.replace('consumptions', 'cons').replace('impressions','imp').replace('by_','').replace('unique','un') \n",
    "    sub_dat[[i]].plot(ax = axes[i], title = l, legend ='')\n",
    "fig.subplots_adjust(hspace=0.5, wspace=0.5)\n",
    "pyplot.show()"
   ]
  },
  {
   "cell_type": "code",
   "execution_count": 9,
   "metadata": {
    "collapsed": false
   },
   "outputs": [
    {
     "data": {
      "image/png": "[encoded data removed]",
      "text/plain": [
       "<matplotlib.figure.Figure at 0x119f47550>"
      ]
     },
     "metadata": {},
     "output_type": "display_data"
    }
   ],
   "source": [
    "sub_dat = df_joined.ix[:, 19:22]\n",
    "fig, axes = pyplot.subplots(nrows=1, ncols=3, figsize=(12,6), sharey=True)\n",
    "for i, var in enumerate(sub_dat.columns):\n",
    "    l = var.replace('consumptions', 'cons').replace('impressions','imp').replace('by_','').replace('unique','un') \n",
    "    sub_dat[[i]].plot(ax = axes[i], title = l, legend ='')\n",
    "fig.subplots_adjust(hspace=0.5, wspace=0.5)\n",
    "pyplot.show()"
   ]
  },
  {
   "cell_type": "markdown",
   "metadata": {},
   "source": [
    "### Thoughts on the data\n",
    "After looking at columns, will make a first attempt at using Logistic regression with the entire dataset\n",
    "then will use:\n",
    "* impressions_fan_unique\n",
    "* consumptions_unique\n",
    "* negative_feedback_unique\n",
    "* video_views_organic_unique\n",
    "\n",
    "### Next Steps:\n",
    "Clean data:\n",
    "* fill in missing values with average based on facebook_page_id for each column\n",
    "* if NA's still exist fill in using average for that column\n",
    "* scale data - more on this later\n",
    "* possibly add 'verticals'\n"
   ]
  },
  {
   "cell_type": "code",
   "execution_count": 10,
   "metadata": {
    "collapsed": false
   },
   "outputs": [
    {
     "data": {
      "text/html": [
       "<div>\n",
       "<table border=\"1\" class=\"dataframe\">\n",
       "  <thead>\n",
       "    <tr style=\"text-align: right;\">\n",
       "      <th></th>\n",
       "      <th>facebook_page_id</th>\n",
       "      <th>impressions_fan_unique</th>\n",
       "      <th>impressions_organic_unique</th>\n",
       "      <th>impressions_by_story_type_unique_other</th>\n",
       "      <th>consumptions_by_type_unique_link_clicks</th>\n",
       "      <th>consumptions_by_type_unique_photo_view</th>\n",
       "      <th>consumptions_by_type_unique_other_clicks</th>\n",
       "      <th>consumptions_unique</th>\n",
       "      <th>negative_feedback_by_type_unique_hide_clicks</th>\n",
       "      <th>negative_feedback_by_type_unique_hide_all_clicks</th>\n",
       "      <th>negative_feedback_unique</th>\n",
       "      <th>video_views_organic_unique</th>\n",
       "      <th>video_complete_views_organic_unique</th>\n",
       "      <th>is_promoted</th>\n",
       "      <th>vertical</th>\n",
       "    </tr>\n",
       "  </thead>\n",
       "  <tbody>\n",
       "    <tr>\n",
       "      <th>0</th>\n",
       "      <td>437314992973512</td>\n",
       "      <td>91.0</td>\n",
       "      <td>94.0</td>\n",
       "      <td>5.0</td>\n",
       "      <td>2513.593163</td>\n",
       "      <td>2.0</td>\n",
       "      <td>3.0</td>\n",
       "      <td>5.0</td>\n",
       "      <td>34.278056</td>\n",
       "      <td>1.0</td>\n",
       "      <td>1.0</td>\n",
       "      <td>13616.693286</td>\n",
       "      <td>4822.538318</td>\n",
       "      <td>0</td>\n",
       "      <td>Services</td>\n",
       "    </tr>\n",
       "    <tr>\n",
       "      <th>1</th>\n",
       "      <td>437314992973512</td>\n",
       "      <td>105.0</td>\n",
       "      <td>109.0</td>\n",
       "      <td>8.0</td>\n",
       "      <td>2513.593163</td>\n",
       "      <td>2.0</td>\n",
       "      <td>3.0</td>\n",
       "      <td>5.0</td>\n",
       "      <td>34.278056</td>\n",
       "      <td>1.0</td>\n",
       "      <td>1.0</td>\n",
       "      <td>13616.693286</td>\n",
       "      <td>4822.538318</td>\n",
       "      <td>0</td>\n",
       "      <td>Services</td>\n",
       "    </tr>\n",
       "    <tr>\n",
       "      <th>2</th>\n",
       "      <td>437314992973512</td>\n",
       "      <td>115.0</td>\n",
       "      <td>132.0</td>\n",
       "      <td>9.0</td>\n",
       "      <td>2513.593163</td>\n",
       "      <td>2.0</td>\n",
       "      <td>3.0</td>\n",
       "      <td>5.0</td>\n",
       "      <td>34.278056</td>\n",
       "      <td>1.0</td>\n",
       "      <td>1.0</td>\n",
       "      <td>13616.693286</td>\n",
       "      <td>4822.538318</td>\n",
       "      <td>0</td>\n",
       "      <td>Services</td>\n",
       "    </tr>\n",
       "    <tr>\n",
       "      <th>3</th>\n",
       "      <td>437314992973512</td>\n",
       "      <td>115.0</td>\n",
       "      <td>135.0</td>\n",
       "      <td>9.0</td>\n",
       "      <td>2513.593163</td>\n",
       "      <td>2.0</td>\n",
       "      <td>3.0</td>\n",
       "      <td>5.0</td>\n",
       "      <td>34.278056</td>\n",
       "      <td>1.0</td>\n",
       "      <td>1.0</td>\n",
       "      <td>13616.693286</td>\n",
       "      <td>4822.538318</td>\n",
       "      <td>0</td>\n",
       "      <td>Services</td>\n",
       "    </tr>\n",
       "    <tr>\n",
       "      <th>4</th>\n",
       "      <td>437314992973512</td>\n",
       "      <td>116.0</td>\n",
       "      <td>138.0</td>\n",
       "      <td>9.0</td>\n",
       "      <td>2513.593163</td>\n",
       "      <td>2.0</td>\n",
       "      <td>3.0</td>\n",
       "      <td>5.0</td>\n",
       "      <td>34.278056</td>\n",
       "      <td>1.0</td>\n",
       "      <td>1.0</td>\n",
       "      <td>13616.693286</td>\n",
       "      <td>4822.538318</td>\n",
       "      <td>0</td>\n",
       "      <td>Services</td>\n",
       "    </tr>\n",
       "  </tbody>\n",
       "</table>\n",
       "</div>"
      ],
      "text/plain": [
       "  facebook_page_id  impressions_fan_unique  impressions_organic_unique  \\\n",
       "0  437314992973512                    91.0                        94.0   \n",
       "1  437314992973512                   105.0                       109.0   \n",
       "2  437314992973512                   115.0                       132.0   \n",
       "3  437314992973512                   115.0                       135.0   \n",
       "4  437314992973512                   116.0                       138.0   \n",
       "\n",
       "   impressions_by_story_type_unique_other  \\\n",
       "0                                     5.0   \n",
       "1                                     8.0   \n",
       "2                                     9.0   \n",
       "3                                     9.0   \n",
       "4                                     9.0   \n",
       "\n",
       "   consumptions_by_type_unique_link_clicks  \\\n",
       "0                              2513.593163   \n",
       "1                              2513.593163   \n",
       "2                              2513.593163   \n",
       "3                              2513.593163   \n",
       "4                              2513.593163   \n",
       "\n",
       "   consumptions_by_type_unique_photo_view  \\\n",
       "0                                     2.0   \n",
       "1                                     2.0   \n",
       "2                                     2.0   \n",
       "3                                     2.0   \n",
       "4                                     2.0   \n",
       "\n",
       "   consumptions_by_type_unique_other_clicks  consumptions_unique  \\\n",
       "0                                       3.0                  5.0   \n",
       "1                                       3.0                  5.0   \n",
       "2                                       3.0                  5.0   \n",
       "3                                       3.0                  5.0   \n",
       "4                                       3.0                  5.0   \n",
       "\n",
       "   negative_feedback_by_type_unique_hide_clicks  \\\n",
       "0                                     34.278056   \n",
       "1                                     34.278056   \n",
       "2                                     34.278056   \n",
       "3                                     34.278056   \n",
       "4                                     34.278056   \n",
       "\n",
       "   negative_feedback_by_type_unique_hide_all_clicks  negative_feedback_unique  \\\n",
       "0                                               1.0                       1.0   \n",
       "1                                               1.0                       1.0   \n",
       "2                                               1.0                       1.0   \n",
       "3                                               1.0                       1.0   \n",
       "4                                               1.0                       1.0   \n",
       "\n",
       "   video_views_organic_unique  video_complete_views_organic_unique  \\\n",
       "0                13616.693286                          4822.538318   \n",
       "1                13616.693286                          4822.538318   \n",
       "2                13616.693286                          4822.538318   \n",
       "3                13616.693286                          4822.538318   \n",
       "4                13616.693286                          4822.538318   \n",
       "\n",
       "   is_promoted  vertical  \n",
       "0            0  Services  \n",
       "1            0  Services  \n",
       "2            0  Services  \n",
       "3            0  Services  \n",
       "4            0  Services  "
      ]
     },
     "execution_count": 10,
     "metadata": {},
     "output_type": "execute_result"
    }
   ],
   "source": [
    "'''\n",
    "DATA PRE-PROCESSING\n",
    "'''\n",
    "\n",
    "data = clean(df_joined, threshold = 0.8, delete_paid=True)\n",
    "# make sure no NANs\n",
    "data.isnull().sum()/nrows\n",
    "\n",
    "# get verticals \n",
    "dict_vert, dict_names = get_verticals()\n",
    "# add verticals to data\n",
    "data['vertical'] = data.facebook_page_id.map(lambda x: dict_vert.get(x,'None'))\n",
    "data['temp'] = data.name.map(lambda x: x.split()[0].strip())\n",
    "data.loc[data.vertical =='None','vertical'] = data[data.vertical =='None'].temp.map(lambda x: dict_names.get(x,'None'))\n",
    "\n",
    "# remove cols with names and id\n",
    "cols_remove =['id','page_id', 'facebook_post_id','name', 'temp']\n",
    "data = data.drop(cols_remove, axis = 1)\n",
    "\n",
    "data.head()"
   ]
  },
  {
   "cell_type": "markdown",
   "metadata": {},
   "source": [
    "### Data Standardization\n",
    "The result of standardization is that the features will be rescaled to have the properties of a standard normal distribution with\n",
    "μ=0 and σ =1 (mean = 0 and standard deviation =1)\n"
   ]
  },
  {
   "cell_type": "code",
   "execution_count": 11,
   "metadata": {
    "collapsed": true
   },
   "outputs": [],
   "source": [
    "# normalize data\n",
    "data.ix[:,1:-2] = preprocessing.scale(data.ix[:,1:-2])\n",
    "data = data.drop(['is_promoted','vertical'], axis = 1).join(data.is_promoted)\n",
    "data['intercept'] = 1.0"
   ]
  },
  {
   "cell_type": "code",
   "execution_count": 12,
   "metadata": {
    "collapsed": false
   },
   "outputs": [],
   "source": [
    "'''\n",
    "Logistic Regression #1 - on entire dataset, all rows & columns\n",
    "SPOILER ALERT....PREDICTS ALL 0'S\n",
    "'''\n",
    "cols_train = data.drop('is_promoted', axis = 1).columns\n",
    "X = data[cols_train]\n",
    "y = data.is_promoted\n",
    "target_names = ['class 0', 'class 1']\n",
    "\n",
    "logreg = LogisticRegression(C=1e9)\n",
    "logreg.fit(X,y)\n",
    "data['promo_pred_1'] = logreg.predict(X)"
   ]
  },
  {
   "cell_type": "code",
   "execution_count": 13,
   "metadata": {
    "collapsed": false
   },
   "outputs": [
    {
     "name": "stdout",
     "output_type": "stream",
     "text": [
      "Predictions:\n",
      "0    204804\n",
      "Name: promo_pred_1, dtype: int64\n",
      "\n",
      "Confusion Matrix\n",
      "          0-Predicted  1-Predicted\n",
      "0-Actual       201448            0\n",
      "1-Actual         3356            0\n",
      "\n",
      "Classification report\n",
      "             precision    recall  f1-score   support\n",
      "\n",
      "          0       0.98      1.00      0.99    201448\n",
      "          1       0.00      0.00      0.00      3356\n",
      "\n",
      "avg / total       0.97      0.98      0.98    204804\n",
      "\n",
      "\n"
     ]
    },
    {
     "name": "stderr",
     "output_type": "stream",
     "text": [
      "/usr/local/lib/python2.7/site-packages/sklearn/metrics/classification.py:1074: UndefinedMetricWarning: Precision and F-score are ill-defined and being set to 0.0 in labels with no predicted samples.\n",
      "  'precision', 'predicted', average, warn_for)\n"
     ]
    },
    {
     "data": {
      "text/plain": [
       "[(u'facebook_page_id', -1.303572786210156e-14),\n",
       " (u'impressions_fan_unique', -2.515819934765487e-28),\n",
       " (u'impressions_organic_unique', -1.7768980230205087e-28),\n",
       " (u'impressions_by_story_type_unique_other', 5.8953178336955866e-31),\n",
       " (u'consumptions_by_type_unique_link_clicks', -6.8519298727175995e-29),\n",
       " (u'consumptions_by_type_unique_photo_view', -1.5088889515630088e-29),\n",
       " (u'consumptions_by_type_unique_other_clicks', -8.2123018571574964e-30),\n",
       " (u'consumptions_unique', -1.9407987468557431e-29),\n",
       " (u'negative_feedback_by_type_unique_hide_clicks', -5.2105213439080107e-29),\n",
       " (u'negative_feedback_by_type_unique_hide_all_clicks',\n",
       "  -1.2961330411644925e-29),\n",
       " (u'negative_feedback_unique', -6.9489748803136481e-29),\n",
       " (u'video_views_organic_unique', -5.3837814890051203e-31),\n",
       " (u'video_complete_views_organic_unique', 4.6702179584345991e-30),\n",
       " ('intercept', -1.5636715929856162e-27)]"
      ]
     },
     "execution_count": 13,
     "metadata": {},
     "output_type": "execute_result"
    }
   ],
   "source": [
    "# look at predictions & results\n",
    "print \"Predictions:\\n\", data.promo_pred_1.value_counts()\n",
    "print\n",
    "# confusion matrix\n",
    "print \"Confusion Matrix\\n\", get_confusion_matrix(y, data.promo_pred_1)\n",
    "print\n",
    "print \"Classification report\\n\", classification_report(y, data.promo_pred_1)\n",
    "print\n",
    "# look at coefficients to see indication of relationship btw inputs and output\n",
    "zip(X.columns, logreg.coef_.flatten())\n"
   ]
  },
  {
   "cell_type": "code",
   "execution_count": 14,
   "metadata": {
    "collapsed": false
   },
   "outputs": [
    {
     "name": "stdout",
     "output_type": "stream",
     "text": [
      "Confusion matrix, without normalization\n",
      "[[201448      0]\n",
      " [  3356      0]]\n"
     ]
    },
    {
     "data": {
      "image/png": "[encoded data removed]",
      "text/plain": [
       "<matplotlib.figure.Figure at 0x1196343d0>"
      ]
     },
     "metadata": {},
     "output_type": "display_data"
    }
   ],
   "source": [
    "# Compute confusion matrix\n",
    "cm = confusion_matrix(y, data.promo_pred_1)\n",
    "np.set_printoptions(precision=2)\n",
    "print('Confusion matrix, without normalization')\n",
    "print(cm)\n",
    "pyplot.figure()\n",
    "plot_confusion_matrix(cm)"
   ]
  },
  {
   "cell_type": "code",
   "execution_count": 15,
   "metadata": {
    "collapsed": false
   },
   "outputs": [
    {
     "data": {
      "image/png": "[encoded data removed]",
      "text/plain": [
       "<matplotlib.figure.Figure at 0x118d4f9d0>"
      ]
     },
     "metadata": {},
     "output_type": "display_data"
    }
   ],
   "source": [
    "# plot the class predictions\n",
    "pyplot.scatter(data.impressions_fan_unique, data.is_promoted)\n",
    "pyplot.plot(data.impressions_fan_unique, data.promo_pred_1, color='red')\n",
    "pyplot.xlabel('impressions_fan_unique')\n",
    "pyplot.ylabel('is_promoted')\n",
    "pyplot.title(\"Logistic Regression on all data\")\n",
    "pyplot.show()\n",
    "\n"
   ]
  },
  {
   "cell_type": "markdown",
   "metadata": {},
   "source": [
    "### Logistic Regression 1 Results:\n",
    "* Predicted all posts to be unpromoted (class 0)\n",
    "* Accuracy score is high because it doesnt take into account the imbalance of classes in the data\n",
    "* All coefficients are very small indicating small movement in output caused by an increase/decrease in input\n",
    "\n",
    "### Next steps\n",
    "* Take into account class imbalance in data\n",
    "* Create training and test set\n"
   ]
  },
  {
   "cell_type": "code",
   "execution_count": 16,
   "metadata": {
    "collapsed": true
   },
   "outputs": [],
   "source": [
    "'''\n",
    "Logistic Regression #2 - on .80 dataset & using balanced classes\n",
    "PREDICTS ALL 1'S\n",
    "'''\n",
    "# training and testing\n",
    "X_train, X_test, y_train, y_test = cross_validation.train_test_split(X, y, test_size=0.2, random_state=1)\n",
    "Cs = np.logspace(-4, 4, 3)\n",
    "logreg2 = LogisticRegression(C=Cs[0], class_weight='balanced', multi_class = 'ovr')\n",
    "logreg2.fit(X_train,y_train)\n",
    "promo_pred_2 = logreg2.predict(X_test)"
   ]
  },
  {
   "cell_type": "code",
   "execution_count": 17,
   "metadata": {
    "collapsed": false
   },
   "outputs": [
    {
     "name": "stdout",
     "output_type": "stream",
     "text": [
      "Average score 0.0163'\n",
      "\n",
      "Predictions:\n",
      "1    40961\n",
      "dtype: int64\n",
      "\n",
      "Confusion Matrix\n",
      "          0-Predicted  1-Predicted\n",
      "0-Actual            0        40292\n",
      "1-Actual            0          669\n",
      "\n",
      "Classification report\n",
      "             precision    recall  f1-score   support\n",
      "\n",
      "          0       0.00      0.00      0.00     40292\n",
      "          1       0.02      1.00      0.03       669\n",
      "\n",
      "avg / total       0.00      0.02      0.00     40961\n",
      "\n",
      "\n"
     ]
    },
    {
     "data": {
      "text/plain": [
       "[(u'facebook_page_id', 4.3119577633479891e-16),\n",
       " (u'impressions_fan_unique', -8.1611763300143994e-31),\n",
       " (u'impressions_organic_unique', -1.2440457105805169e-31),\n",
       " (u'impressions_by_story_type_unique_other', 4.0583516765594136e-30),\n",
       " (u'consumptions_by_type_unique_link_clicks', 2.0114045238676701e-30),\n",
       " (u'consumptions_by_type_unique_photo_view', -1.1519284392873536e-31),\n",
       " (u'consumptions_by_type_unique_other_clicks', 3.3179039167255462e-30),\n",
       " (u'consumptions_unique', 4.1527504590139668e-30),\n",
       " (u'negative_feedback_by_type_unique_hide_clicks', 2.5646006230495904e-30),\n",
       " (u'negative_feedback_by_type_unique_hide_all_clicks', 1.9209143320706863e-30),\n",
       " (u'negative_feedback_unique', 2.6081590434107546e-30),\n",
       " (u'video_views_organic_unique', 4.1144036462883249e-30),\n",
       " (u'video_complete_views_organic_unique', 4.0408093161021911e-30),\n",
       " ('intercept', -1.0854332743128038e-30)]"
      ]
     },
     "execution_count": 17,
     "metadata": {},
     "output_type": "execute_result"
    }
   ],
   "source": [
    "# Look at how well this version performed\n",
    "print \"Average score %.4f'\" % logreg2.score(X_test, y_test)\n",
    "print \n",
    "\n",
    "# look at predictions & results\n",
    "print \"Predictions:\\n\", pd.value_counts(promo_pred_2)\n",
    "print\n",
    "# confusion matrix\n",
    "print \"Confusion Matrix\\n\", get_confusion_matrix(y_test, promo_pred_2)\n",
    "print\n",
    "print \"Classification report\\n\", classification_report(y_test, promo_pred_2)\n",
    "print\n",
    "\n",
    "# look at coefficients to see indication of relationship btw inputs and output\n",
    "zip(X_test.columns, logreg2.coef_.flatten())"
   ]
  },
  {
   "cell_type": "code",
   "execution_count": 18,
   "metadata": {
    "collapsed": false
   },
   "outputs": [
    {
     "name": "stdout",
     "output_type": "stream",
     "text": [
      "Confusion matrix\n",
      "[[    0 40292]\n",
      " [    0   669]]\n"
     ]
    },
    {
     "data": {
      "image/png": "[encoded data removed]",
      "text/plain": [
       "<matplotlib.figure.Figure at 0x118d4f790>"
      ]
     },
     "metadata": {},
     "output_type": "display_data"
    }
   ],
   "source": [
    "# Compute confusion matrix\n",
    "cm_2 = confusion_matrix(y_test, promo_pred_2)\n",
    "print('Confusion matrix')\n",
    "print(cm_2)\n",
    "pyplot.figure()\n",
    "plot_confusion_matrix(cm_2)"
   ]
  },
  {
   "cell_type": "markdown",
   "metadata": {},
   "source": [
    "### Logistic Regression 2 Results:\n",
    "* Predicted all posts to be promoted (class 1)\n",
    "* Accuracy score is very low as it doesnt predict any unpromoted posts (which are the majority of the data)\n",
    "* All coefficients are very small indicating small movement in output caused by an increase/decrease in input\n",
    "\n",
    "### Next steps\n",
    "* Reduce feature size based on visualization done earlier\n",
    "\n"
   ]
  },
  {
   "cell_type": "code",
   "execution_count": 19,
   "metadata": {
    "collapsed": false
   },
   "outputs": [],
   "source": [
    "'''\n",
    "Logistic Regression #3 - on .90 dataset & only a few features \n",
    "'''\n",
    "\n",
    "X = data[['impressions_fan_unique','consumptions_unique','negative_feedback_unique','video_views_organic_unique','impressions_organic_unique']]\n",
    "y = data.is_promoted\n",
    "# training and testing\n",
    "X_train, X_test, y_train, y_test = cross_validation.train_test_split(X, y, test_size=0.15, random_state=1)\n",
    "Cs = np.logspace(-4, 4, 3)\n",
    "logreg3 = LogisticRegression(C=Cs[2], class_weight='balanced', multi_class = 'ovr')\n",
    "logreg3.fit(X_train,y_train)\n",
    "promo_pred_3 = logreg3.predict(X_test)"
   ]
  },
  {
   "cell_type": "code",
   "execution_count": 20,
   "metadata": {
    "collapsed": false
   },
   "outputs": [
    {
     "name": "stdout",
     "output_type": "stream",
     "text": [
      "Average accuracy 0.5582'\n",
      "\n",
      "Predictions:\n",
      "0    16829\n",
      "1    13892\n",
      "dtype: int64\n",
      "Confusion Matrix:\n",
      "\n",
      "          0-Predicted  1-Predicted\n",
      "0-Actual        16744        13489\n",
      "1-Actual           85          403\n"
     ]
    },
    {
     "data": {
      "image/png": "[encoded data removed]",
      "text/plain": [
       "<matplotlib.figure.Figure at 0x11bc70a10>"
      ]
     },
     "metadata": {},
     "output_type": "display_data"
    }
   ],
   "source": [
    "predicted_probs_3 = logreg3.predict_proba(X_test)\n",
    "print \"Average accuracy %.4f'\" % logreg3.score(X_test, y_test)\n",
    "print\n",
    "print \"Predictions:\\n\", pd.value_counts(promo_pred_3)\n",
    "\n",
    "print \"Confusion Matrix:\\n\"\n",
    "print(get_confusion_matrix(y_test, promo_pred_3))\n",
    "# Compute confusion matrix\n",
    "cm_3 = confusion_matrix(y_test, promo_pred_3)\n",
    "\n",
    "pyplot.figure()\n",
    "plot_confusion_matrix(cm_3)"
   ]
  },
  {
   "cell_type": "code",
   "execution_count": 22,
   "metadata": {
    "collapsed": false
   },
   "outputs": [
    {
     "name": "stdout",
     "output_type": "stream",
     "text": [
      "Classification report\n",
      "             precision    recall  f1-score   support\n",
      "\n",
      "          0       0.99      0.55      0.71     30233\n",
      "          1       0.03      0.83      0.06       488\n",
      "\n",
      "avg / total       0.98      0.56      0.70     30721\n",
      "\n",
      "\n"
     ]
    },
    {
     "data": {
      "text/plain": [
       "[(u'impressions_fan_unique', 0.100052594987574),\n",
       " (u'consumptions_unique', 0.62319698181722138),\n",
       " (u'negative_feedback_unique', 0.064015839770575581),\n",
       " (u'video_views_organic_unique', 1.11095550056947),\n",
       " (u'impressions_organic_unique', -0.83775778321777095)]"
      ]
     },
     "execution_count": 22,
     "metadata": {},
     "output_type": "execute_result"
    }
   ],
   "source": [
    "print \"Classification report\\n\", classification_report(y_test, promo_pred_3)\n",
    "print\n",
    "# Look at which coefficients mig\n",
    "zip(X_test.columns, logreg3.coef_.flatten())"
   ]
  },
  {
   "cell_type": "markdown",
   "metadata": {},
   "source": [
    "### Logistic Regression 3 Results:\n",
    "* Predictions are a bit more balanced\n",
    "* Precision is low for promoted posts as it incorrectly classifies alot of posts as promoted (false positives)\n",
    "* Recall/Sensitivity is low for unpromoted posts - number of prediction unpromoted posts is low in comparison to the total number of unpromoted posts\n",
    "* Coefficients seems to indicate some relationship to output, need to work on selecting better features\n",
    "\n",
    "### Next steps\n",
    "* Take a look at feature importance using decision tree classifier\n",
    "* Run Logistic Regression on a best features\n"
   ]
  },
  {
   "cell_type": "code",
   "execution_count": 158,
   "metadata": {
    "collapsed": true
   },
   "outputs": [],
   "source": [
    "'''\n",
    "FEATURE IMPORTANCE USING DECISION TREE\n",
    "'''\n",
    "X, y = shuffle(data.ix[:, 1:-3], data.is_promoted, random_state=23)\n",
    "X_train, X_test, y_train, y_test = cross_validation.train_test_split(X, y, test_size=0.15, random_state=1)\n",
    "\n",
    "tree_model = tree.DecisionTreeClassifier(criterion='gini')\n",
    "tree_model = tree.DecisionTreeClassifier()\n",
    "tree_model.fit(X_train, y_train)\n",
    "\n",
    "tree_predicted = tree_model.predict(X_test)"
   ]
  },
  {
   "cell_type": "code",
   "execution_count": 159,
   "metadata": {
    "collapsed": false
   },
   "outputs": [
    {
     "name": "stdout",
     "output_type": "stream",
     "text": [
      "12. feature 0 (0.398624)  impressions_fan_unique\n",
      "11. feature 10 (0.140910)  impressions_organic_unique\n",
      "10. feature 1 (0.096830)  impressions_by_story_type_unique_other\n",
      "9. feature 2 (0.062721)  consumptions_unique\n",
      "8. feature 6 (0.060194)  consumptions_by_type_unique_other_clicks\n",
      "7. feature 11 (0.059505)  video_views_organic_unique\n",
      "6. feature 7 (0.047170)  consumptions_by_type_unique_link_clicks\n",
      "5. feature 9 (0.029568)  consumptions_by_type_unique_photo_view\n",
      "4. feature 4 (0.027654)  negative_feedback_unique\n",
      "3. feature 5 (0.026745)  video_complete_views_organic_unique\n",
      "2. feature 8 (0.026578)  negative_feedback_by_type_unique_hide_clicks\n",
      "1. feature 3 (0.023500)  negative_feedback_by_type_unique_hide_all_clicks\n"
     ]
    }
   ],
   "source": [
    "tree_impt = tree_model.feature_importances_\n",
    "# get sorted index \n",
    "sorted_idx_tree = np.argsort(tree_impt)\n",
    "for f in xrange(len(X.columns),0,-1):\n",
    "    print(\"%d. feature %d (%f)  %s\" % (f , sorted_idx[f-1], tree_impt[sorted_idx_tree[f-1]], X.columns[sorted_idx_tree[f-1]]))\n",
    "\n"
   ]
  },
  {
   "cell_type": "code",
   "execution_count": 160,
   "metadata": {
    "collapsed": false
   },
   "outputs": [
    {
     "name": "stdout",
     "output_type": "stream",
     "text": [
      "Average accuracy 0.9920'\n",
      "\n",
      "Predictions:\n",
      "0    30221\n",
      "1      500\n",
      "dtype: int64\n",
      "Confusion Matrix:\n",
      "\n",
      "          0-Predicted  1-Predicted\n",
      "0-Actual        30083          109\n",
      "1-Actual          138          391\n"
     ]
    },
    {
     "data": {
      "image/png": "[encoded data removed]",
      "text/plain": [
       "<matplotlib.figure.Figure at 0x11baae090>"
      ]
     },
     "metadata": {},
     "output_type": "display_data"
    }
   ],
   "source": [
    "print \"Average accuracy %.4f'\" % tree_model.score(X_test, y_test)\n",
    "print\n",
    "print \"Predictions:\\n\", pd.value_counts(tree_predicted)\n",
    "\n",
    "print \"Confusion Matrix:\\n\"\n",
    "print(get_confusion_matrix(y_test, tree_predicted))\n",
    "# Compute confusion matrix\n",
    "cm_tree = confusion_matrix(y_true=y_test, y_pred=tree_predicted)\n",
    "\n",
    "pyplot.figure()\n",
    "plot_confusion_matrix(cm_tree)"
   ]
  },
  {
   "cell_type": "code",
   "execution_count": 161,
   "metadata": {
    "collapsed": false
   },
   "outputs": [
    {
     "name": "stdout",
     "output_type": "stream",
     "text": [
      "             precision    recall  f1-score   support\n",
      "\n",
      "    class 0       1.00      1.00      1.00     30192\n",
      "    class 1       0.78      0.74      0.76       529\n",
      "\n",
      "avg / total       0.99      0.99      0.99     30721\n",
      "\n"
     ]
    }
   ],
   "source": [
    "print(classification_report(y_test, tree_predicted, target_names= target_names))\n",
    "n_classes=2\n",
    "tree_predicted_proba = tree_model.predict_proba(X_test)"
   ]
  },
  {
   "cell_type": "code",
   "execution_count": 162,
   "metadata": {
    "collapsed": false
   },
   "outputs": [
    {
     "data": {
      "image/png": "[encoded data removed]",
      "text/plain": [
       "<matplotlib.figure.Figure at 0x11ba9ea50>"
      ]
     },
     "metadata": {},
     "output_type": "display_data"
    }
   ],
   "source": [
    "fpr = dict()\n",
    "tpr = dict()\n",
    "roc_auc = dict()\n",
    "for i in range(n_classes):\n",
    "    fpr[i], tpr[i], _  = roc_curve(y_test, tree_predicted_proba[:, i])\n",
    "    roc_auc[i] = auc(fpr[i], tpr[i])\n",
    "\n",
    "# Plot of a ROC curve for a specific class\n",
    "pyplot.figure()    \n",
    "pyplot.plot(fpr[1], tpr[1], label='ROC curve (area = %0.2f)' % roc_auc[1])\n",
    "pyplot.plot([0, 1], [0, 1], 'k--')\n",
    "pyplot.xlabel('False Positive Rate')\n",
    "pyplot.ylabel('True Positive Rate')\n",
    "pyplot.title('ROC Currve - Decision Tree using all features')\n",
    "pyplot.legend(loc=\"lower right\")\n",
    "pyplot.show()"
   ]
  },
  {
   "cell_type": "markdown",
   "metadata": {},
   "source": [
    "### Decision Tree Results\n",
    "* after fitting the model on all the features, it performs alot better than logistic regression\n",
    "* scores perfectly on unpromoted posts and very well on promoted posts\n",
    "\n",
    "#### Let's see how logistic regression performs when subsetting 5 most important features"
   ]
  },
  {
   "cell_type": "code",
   "execution_count": 168,
   "metadata": {
    "collapsed": false
   },
   "outputs": [],
   "source": [
    "X, y = shuffle(data.ix[:, 1:-3], data.is_promoted, random_state=23)\n",
    "best_cols = [X.columns[sorted_idx_tree[i-1]] for i in xrange(12,6,-1)]\n",
    "    \n",
    "'''\n",
    "Logistic Regression #4 - on .90 dataset & top 5 impt features\n",
    "'''\n",
    "\n",
    "X = data[best_cols]\n",
    "y = data.is_promoted\n",
    "# training and testing\n",
    "X_train, X_test, y_train, y_test = cross_validation.train_test_split(X, y, test_size=0.1, random_state=1)\n",
    "Cs = np.logspace(-4, 4, 3)\n",
    "\n",
    "logreg4 = LogisticRegression(C=Cs[1], class_weight='balanced', multi_class = 'ovr')\n",
    "logreg4.fit(X_train,y_train)\n",
    "promo_pred_4 = logreg4.predict(X_test)"
   ]
  },
  {
   "cell_type": "code",
   "execution_count": 169,
   "metadata": {
    "collapsed": false
   },
   "outputs": [
    {
     "name": "stdout",
     "output_type": "stream",
     "text": [
      "Average accuracy 0.7931'\n",
      "\n",
      "Predictions:\n",
      "0    16185\n",
      "1     4296\n",
      "dtype: int64\n",
      "Confusion Matrix:\n",
      "\n",
      "          0-Predicted  1-Predicted\n",
      "0-Actual        16046         4099\n",
      "1-Actual          139          197\n"
     ]
    },
    {
     "data": {
      "image/png": "[encoded data removed]",
      "text/plain": [
       "<matplotlib.figure.Figure at 0x11a1c9c90>"
      ]
     },
     "metadata": {},
     "output_type": "display_data"
    }
   ],
   "source": [
    "print \"Average accuracy %.4f'\" % logreg4.score(X_test, y_test)\n",
    "print\n",
    "print \"Predictions:\\n\", pd.value_counts(promo_pred_4)\n",
    "\n",
    "print \"Confusion Matrix:\\n\"\n",
    "print(get_confusion_matrix(y_test, promo_pred_4))\n",
    "# Compute confusion matrix\n",
    "cm_4 = confusion_matrix(y_true=y_test, y_pred=promo_pred_4)\n",
    "\n",
    "pyplot.figure()\n",
    "plot_confusion_matrix(cm_4)"
   ]
  },
  {
   "cell_type": "code",
   "execution_count": 170,
   "metadata": {
    "collapsed": false
   },
   "outputs": [
    {
     "name": "stdout",
     "output_type": "stream",
     "text": [
      "Decision Tree picks out best features as:\n",
      "[u'impressions_fan_unique', u'impressions_organic_unique', u'impressions_by_story_type_unique_other', u'consumptions_unique', u'consumptions_by_type_unique_other_clicks', u'video_views_organic_unique']\n",
      "\n",
      "             precision    recall  f1-score   support\n",
      "\n",
      "    class 0       0.99      0.80      0.88     20145\n",
      "    class 1       0.05      0.59      0.09       336\n",
      "\n",
      "avg / total       0.98      0.79      0.87     20481\n",
      "\n"
     ]
    },
    {
     "data": {
      "text/plain": [
       "[(u'impressions_fan_unique', -0.14364394582778564),\n",
       " (u'impressions_organic_unique', -1.424936626275723),\n",
       " (u'impressions_by_story_type_unique_other', -2.3342143746821065),\n",
       " (u'consumptions_unique', 7.735608751945624),\n",
       " (u'consumptions_by_type_unique_other_clicks', -10.353440292251369),\n",
       " (u'video_views_organic_unique', 7.0110744878655691)]"
      ]
     },
     "execution_count": 170,
     "metadata": {},
     "output_type": "execute_result"
    }
   ],
   "source": [
    "print \"Decision Tree picks out best features as:\\n\", best_cols\n",
    "print\n",
    "print(classification_report(y_test, promo_pred_4, target_names= target_names))\n",
    "# Look at coefficients \n",
    "zip(X_test.columns, logreg4.coef_.flatten())"
   ]
  },
  {
   "cell_type": "code",
   "execution_count": 171,
   "metadata": {
    "collapsed": true
   },
   "outputs": [],
   "source": [
    "promo_pred_prob_4 = logreg4.predict_proba(X_test)\n",
    "fpr, tpr, _ = roc_curve(y_test, promo_pred_prob_4[:,1])\n",
    "n_classes =2"
   ]
  },
  {
   "cell_type": "code",
   "execution_count": 172,
   "metadata": {
    "collapsed": false
   },
   "outputs": [
    {
     "data": {
      "image/png": "[encoded data removed]",
      "text/plain": [
       "<matplotlib.figure.Figure at 0x11c38ced0>"
      ]
     },
     "metadata": {},
     "output_type": "display_data"
    }
   ],
   "source": [
    "fpr = dict()\n",
    "tpr = dict()\n",
    "roc_auc = dict()\n",
    "for i in range(n_classes):\n",
    "    fpr[i], tpr[i], _  = roc_curve(y_test, promo_pred_prob_4[:, i])\n",
    "    roc_auc[i] = auc(fpr[i], tpr[i])\n",
    "\n",
    "# Plot of a ROC curve for a specific class\n",
    "pyplot.figure()    \n",
    "pyplot.plot(fpr[1], tpr[1], label='ROC curve (area = %0.2f)' % roc_auc[1])\n",
    "pyplot.plot([0, 1], [0, 1], 'k--')\n",
    "pyplot.xlabel('False Positive Rate')\n",
    "pyplot.ylabel('True Positive Rate')\n",
    "pyplot.title('ROC Currve - Logistic Regression')\n",
    "pyplot.legend(loc=\"lower right\")\n",
    "pyplot.show()"
   ]
  },
  {
   "cell_type": "markdown",
   "metadata": {},
   "source": [
    "### Logistic Regression 4 Results:\n",
    "* Decision Tree on all features performs better than any of the logistic regression models\n",
    "* However, average accuracy for logistic regression on a subset of features is better than in 3rd attempt because the model is only taking into account the features that are the most important in explaining the output\n",
    "* Recall/Sensitivity (true positive rate) is higher (.59), meaning it correctly classified promoted posts better\n",
    "* Precision is low for promoted posts as model incorrectly classifies alot of posts as promoted compared to actual number of promoted posts (false positives)\n",
    "* Coefficients seems to indicate some relationship to output, need to work on selecting better features\n",
    "\n",
    "### Next steps\n",
    "* Discuss Boosting methods/Ada Boost\n",
    "* Fit Decision Tree/Random Forest on subset of columns\n",
    "* Look at ADA Boost"
   ]
  },
  {
   "cell_type": "code",
   "execution_count": 175,
   "metadata": {
    "collapsed": false
   },
   "outputs": [],
   "source": [
    "X, y = shuffle(data.ix[:, 1:-3], data.is_promoted, random_state=10)\n",
    "X = data[best_cols]\n",
    "y = data.is_promoted\n",
    "# training and testing\n",
    "X_train, X_test, y_train, y_test = cross_validation.train_test_split(X, y, test_size=0.1, random_state=1)\n",
    "\n",
    "tree_model_small = tree.DecisionTreeClassifier(criterion='gini')\n",
    "tree_model_small.fit(X_train, y_train)\n",
    "tree_predicted_small = tree_model_small.predict(X_test)"
   ]
  },
  {
   "cell_type": "code",
   "execution_count": 176,
   "metadata": {
    "collapsed": false
   },
   "outputs": [
    {
     "name": "stdout",
     "output_type": "stream",
     "text": [
      "Average accuracy 0.9923'\n",
      "\n",
      "Predictions:\n",
      "0    20143\n",
      "1      338\n",
      "dtype: int64\n",
      "Confusion Matrix:\n",
      "\n",
      "          0-Predicted  1-Predicted\n",
      "0-Actual        20065           80\n",
      "1-Actual           78          258\n"
     ]
    },
    {
     "data": {
      "image/png": "[encoded data removed]",
      "text/plain": [
       "<matplotlib.figure.Figure at 0x118edb510>"
      ]
     },
     "metadata": {},
     "output_type": "display_data"
    }
   ],
   "source": [
    "print \"Average accuracy %.4f'\" % tree_model_small.score(X_test, y_test)\n",
    "print\n",
    "print \"Predictions:\\n\", pd.value_counts(tree_predicted_small)\n",
    "\n",
    "print \"Confusion Matrix:\\n\"\n",
    "print(get_confusion_matrix(y_test, tree_predicted_small))\n",
    "# Compute confusion matrix\n",
    "cm_tree_small = confusion_matrix(y_true=y_test, y_pred=tree_predicted_small)\n",
    "\n",
    "pyplot.figure()\n",
    "plot_confusion_matrix(cm_tree_small)"
   ]
  },
  {
   "cell_type": "code",
   "execution_count": 178,
   "metadata": {
    "collapsed": false
   },
   "outputs": [
    {
     "data": {
      "image/png": "[encoded data removed]",
      "text/plain": [
       "<matplotlib.figure.Figure at 0x118468fd0>"
      ]
     },
     "metadata": {},
     "output_type": "display_data"
    }
   ],
   "source": [
    "tree_small_predicted_proba = tree_model_small.predict_proba(X_test)\n",
    "\n",
    "fpr = dict()\n",
    "tpr = dict()\n",
    "roc_auc = dict()\n",
    "for i in range(n_classes):\n",
    "    fpr[i], tpr[i], _  = roc_curve(y_test, tree_small_predicted_proba[:, i])\n",
    "    roc_auc[i] = auc(fpr[i], tpr[i])\n",
    "\n",
    "# Plot of a ROC curve for a specific class\n",
    "pyplot.figure()    \n",
    "pyplot.plot(fpr[1], tpr[1], label='ROC curve (area = %0.2f)' % roc_auc[1])\n",
    "pyplot.plot([0, 1], [0, 1], 'k--')\n",
    "pyplot.xlabel('False Positive Rate')\n",
    "pyplot.ylabel('True Positive Rate')\n",
    "pyplot.title('ROC Currve - Decision Tree using subset of features')\n",
    "pyplot.legend(loc=\"lower right\")\n",
    "pyplot.show()"
   ]
  },
  {
   "cell_type": "code",
   "execution_count": 179,
   "metadata": {
    "collapsed": false
   },
   "outputs": [
    {
     "data": {
      "image/png": "[encoded data removed]",
      "text/plain": [
       "<matplotlib.figure.Figure at 0x119ba3a90>"
      ]
     },
     "metadata": {},
     "output_type": "display_data"
    }
   ],
   "source": [
    "pyplot.scatter(x = X_test.impressions_fan_unique, y = y_test)\n",
    "pyplot.plot(x = X_test.impressions_fan_unique, y = tree_predicted_small)\n",
    "pyplot.show()"
   ]
  },
  {
   "cell_type": "code",
   "execution_count": 180,
   "metadata": {
    "collapsed": true
   },
   "outputs": [],
   "source": [
    "'''\n",
    "RANDOM FOREST\n",
    "'''\n",
    "rf = RandomForestClassifier(n_estimators = 500)\n",
    "rf.fit(X_train, y_train)\n",
    "rf_predicted = rf.predict(X_test)"
   ]
  },
  {
   "cell_type": "code",
   "execution_count": 181,
   "metadata": {
    "collapsed": false
   },
   "outputs": [
    {
     "name": "stdout",
     "output_type": "stream",
     "text": [
      "0.994336214052\n",
      "             precision    recall  f1-score   support\n",
      "\n",
      "    class 0       0.99      1.00      1.00     20145\n",
      "    class 1       0.99      0.66      0.79       336\n",
      "\n",
      "avg / total       0.99      0.99      0.99     20481\n",
      "\n"
     ]
    }
   ],
   "source": [
    "print rf.score(X_test, y_test)\n",
    "print (classification_report(y_test, rf_predicted, target_names= target_names))"
   ]
  },
  {
   "cell_type": "code",
   "execution_count": 182,
   "metadata": {
    "collapsed": false
   },
   "outputs": [
    {
     "name": "stdout",
     "output_type": "stream",
     "text": [
      "Average accuracy 0.9923'\n",
      "\n",
      "Predictions:\n",
      "0    20143\n",
      "1      338\n",
      "dtype: int64\n",
      "Confusion Matrix:\n",
      "\n",
      "          0-Predicted  1-Predicted\n",
      "0-Actual        20065           80\n",
      "1-Actual           78          258\n"
     ]
    },
    {
     "data": {
      "image/png": "[encoded data removed]",
      "text/plain": [
       "<matplotlib.figure.Figure at 0x11b528e90>"
      ]
     },
     "metadata": {},
     "output_type": "display_data"
    }
   ],
   "source": [
    "print \"Average accuracy %.4f'\" % tree_model_small.score(X_test, y_test)\n",
    "print\n",
    "print \"Predictions:\\n\", pd.value_counts(tree_predicted_small)\n",
    "\n",
    "print \"Confusion Matrix:\\n\"\n",
    "print(get_confusion_matrix(y_test, tree_predicted_small))\n",
    "# Compute confusion matrix\n",
    "cm_tree_small = confusion_matrix(y_true=y_test, y_pred=tree_predicted_small)\n",
    "\n",
    "pyplot.figure()\n",
    "plot_confusion_matrix(cm_tree_small)"
   ]
  },
  {
   "cell_type": "code",
   "execution_count": 183,
   "metadata": {
    "collapsed": false
   },
   "outputs": [
    {
     "data": {
      "image/png": "[encoded data removed]",
      "text/plain": [
       "<matplotlib.figure.Figure at 0x11994f290>"
      ]
     },
     "metadata": {},
     "output_type": "display_data"
    }
   ],
   "source": [
    "rf_predicted_proba = tree_model_small.predict_proba(X_test)\n",
    "\n",
    "fpr = dict()\n",
    "tpr = dict()\n",
    "roc_auc = dict()\n",
    "for i in range(n_classes):\n",
    "    fpr[i], tpr[i], _  = roc_curve(y_test, rf_predicted_proba[:, i])\n",
    "    roc_auc[i] = auc(fpr[i], tpr[i])\n",
    "\n",
    "# Plot of a ROC curve for a specific class\n",
    "pyplot.figure()    \n",
    "pyplot.plot(fpr[1], tpr[1], label='ROC curve (area = %0.2f)' % roc_auc[1])\n",
    "pyplot.plot([0, 1], [0, 1], 'k--')\n",
    "pyplot.xlabel('False Positive Rate')\n",
    "pyplot.ylabel('True Positive Rate')\n",
    "pyplot.title('ROC Currve - Random Forest')\n",
    "pyplot.legend(loc=\"lower right\")\n",
    "pyplot.show()"
   ]
  },
  {
   "cell_type": "code",
   "execution_count": 23,
   "metadata": {
    "collapsed": false
   },
   "outputs": [
    {
     "name": "stdout",
     "output_type": "stream",
     "text": [
      "12. feature 0 (0.041753)  video_complete_views_organic_unique\n",
      "11. feature 1 (0.064393)  video_views_organic_unique\n",
      "10. feature 2 (0.023853)  negative_feedback_unique\n",
      "9. feature 6 (0.058216)  negative_feedback_by_type_unique_hide_all_clicks\n",
      "8. feature 10 (0.015871)  negative_feedback_by_type_unique_hide_clicks\n",
      "7. feature 3 (0.082734)  consumptions_unique\n",
      "6. feature 8 (0.042476)  consumptions_by_type_unique_other_clicks\n",
      "5. feature 5 (0.040601)  consumptions_by_type_unique_photo_view\n",
      "4. feature 11 (0.061313)  consumptions_by_type_unique_link_clicks\n",
      "3. feature 4 (0.107170)  impressions_by_story_type_unique_other\n",
      "2. feature 9 (0.150459)  impressions_organic_unique\n",
      "1. feature 7 (0.311161)  impressions_fan_unique\n"
     ]
    }
   ],
   "source": [
    "'''\n",
    "FEATURE IMPORTANCE USING GRADIENT BOOSTING CLASSIFIER\n",
    "'''\n",
    "X, y = shuffle(data.ix[:, 1:-3], data.is_promoted, random_state=23)\n",
    "X_train, X_test, y_train, y_test = cross_validation.train_test_split(X, y, test_size=0.15, random_state=1)\n",
    "\n",
    "n_estimators = 150\n",
    "# Use Gradient Boosting Regression method to find relative feature importance\n",
    "params = {'n_estimators': n_estimators, 'max_depth': 4, 'min_samples_split': 1,\n",
    "          'learning_rate': 0.01, 'loss': 'ls'}\n",
    "#ens_reg = ensemble.GradientBoostingClassifier(**params)\n",
    "\n",
    "\n",
    "grd = ensemble.GradientBoostingClassifier(n_estimators=n_estimators)\n",
    "grd.fit(X_train,y_train)\n",
    "grd_predicted = grd.predict(X_test)\n",
    "\n",
    "feature_importance = grd.feature_importances_\n",
    "# get sorted index \n",
    "sorted_idx = np.argsort(feature_importance)\n",
    "for f in xrange(len(X.columns),0,-1):\n",
    "    print(\"%d. feature %d (%f)  %s\" % (f , sorted_idx[f-1], feature_importance[sorted_idx[f-1]], X.columns[sorted_idx[f-1]]))\n",
    "\n"
   ]
  },
  {
   "cell_type": "markdown",
   "metadata": {},
   "source": [
    "## TO DO:\n",
    "    BOOSTING Discussion"
   ]
  },
  {
   "cell_type": "code",
   "execution_count": 39,
   "metadata": {
    "collapsed": false
   },
   "outputs": [],
   "source": [
    "# Use Gradient Boosting Regression \n",
    "\n",
    "X, y = shuffle(data.ix[:, 1:-3], data.is_promoted, random_state=23)\n",
    "X_train, X_test, y_train, y_test = cross_validation.train_test_split(X, y, test_size=0.2, random_state=1)\n",
    "\n",
    "n_estimators = 100\n",
    "\n",
    "# params = {'n_estimators': n_estimators, 'max_depth': 4, 'min_samples_split': 1,\n",
    "#           'learning_rate': 0.01, 'loss': 'ls'}\n",
    "\n",
    "params = {'n_estimators': n_estimators, 'max_depth': 4, 'min_samples_split': 1,\n",
    "          'learning_rate': 0.01}\n",
    "\n",
    "grd = ensemble.GradientBoostingClassifier(**params)\n",
    "grd.fit(X_train,y_train)\n",
    "grd_predicted = grd.predict(X_test)"
   ]
  },
  {
   "cell_type": "code",
   "execution_count": 42,
   "metadata": {
    "collapsed": false
   },
   "outputs": [
    {
     "name": "stdout",
     "output_type": "stream",
     "text": [
      "12. feature 0 (0.644725)  impressions_fan_unique\n",
      "11. feature 10 (0.110649)  video_views_organic_unique\n",
      "10. feature 1 (0.097465)  impressions_organic_unique\n",
      "9. feature 2 (0.039916)  impressions_by_story_type_unique_other\n",
      "8. feature 6 (0.026319)  consumptions_unique\n",
      "7. feature 11 (0.025785)  video_complete_views_organic_unique\n",
      "6. feature 7 (0.018461)  negative_feedback_by_type_unique_hide_clicks\n",
      "5. feature 9 (0.018084)  negative_feedback_unique\n",
      "4. feature 4 (0.005740)  consumptions_by_type_unique_photo_view\n",
      "3. feature 5 (0.004961)  consumptions_by_type_unique_other_clicks\n",
      "2. feature 8 (0.004733)  negative_feedback_by_type_unique_hide_all_clicks\n",
      "1. feature 3 (0.003161)  consumptions_by_type_unique_link_clicks\n"
     ]
    }
   ],
   "source": [
    "# get feature importance\n",
    "feature_importance = grd.feature_importances_\n",
    "\n",
    "# get sorted index for feature importance \n",
    "sorted_idx = np.argsort(feature_importance)\n",
    "for f in xrange(len(X.columns),0,-1):\n",
    "    print(\"%d. feature %d (%f)  %s\" % (f , sorted_idx[f-1], feature_importance[sorted_idx[f-1]], X.columns[sorted_idx[f-1]]))\n",
    "\n"
   ]
  },
  {
   "cell_type": "code",
   "execution_count": 43,
   "metadata": {
    "collapsed": false
   },
   "outputs": [
    {
     "name": "stdout",
     "output_type": "stream",
     "text": [
      "Average accuracy 0.9862'\n",
      "Predictions:\n",
      "0    40845\n",
      "1      116\n",
      "dtype: int64\n",
      "\n",
      "Confusion Matrix:\n",
      "\n",
      "          0-Predicted  1-Predicted\n",
      "0-Actual        40280            1\n",
      "1-Actual          565          115\n"
     ]
    },
    {
     "data": {
      "image/png": "[encoded data removed]",
      "text/plain": [
       "<matplotlib.figure.Figure at 0x11945d310>"
      ]
     },
     "metadata": {},
     "output_type": "display_data"
    }
   ],
   "source": [
    "print \"Average accuracy %.4f'\" % grd.score(X_test, y_test)\n",
    "print \"Predictions:\\n\", pd.value_counts(grd_predicted)\n",
    "print\n",
    "print \"Confusion Matrix:\\n\"\n",
    "print(get_confusion_matrix(y_test, grd_predicted))\n",
    "# Compute confusion matrix\n",
    "cm_5 = confusion_matrix(y_test, grd_predicted)\n",
    "\n",
    "pyplot.figure()\n",
    "plot_confusion_matrix(cm_5)"
   ]
  },
  {
   "cell_type": "code",
   "execution_count": 44,
   "metadata": {
    "collapsed": false
   },
   "outputs": [
    {
     "name": "stdout",
     "output_type": "stream",
     "text": [
      "             precision    recall  f1-score   support\n",
      "\n",
      "    class 0       0.99      1.00      0.99     40281\n",
      "    class 1       0.99      0.17      0.29       680\n",
      "\n",
      "avg / total       0.99      0.99      0.98     40961\n",
      "\n"
     ]
    }
   ],
   "source": [
    "print(classification_report(y_test, grd_predicted, target_names= target_names))\n"
   ]
  },
  {
   "cell_type": "code",
   "execution_count": 33,
   "metadata": {
    "collapsed": false
   },
   "outputs": [],
   "source": [
    "original_params = {'n_estimators': 1000, 'max_leaf_nodes': 4, 'max_depth': None, 'random_state': 2,\n",
    "                   'min_samples_split': 5}\n",
    "\n",
    "params = {'n_estimators': n_estimators, 'max_depth': None, 'min_samples_split': 5,\n",
    "          'learning_rate': 0.01, 'loss': 'ls'}\n",
    "# compute test set deviance\n",
    "test_deviance = np.zeros((params['n_estimators'],), dtype=np.float64)\n",
    "\n",
    "for i, grd_predicted in enumerate(grd.staged_decision_function(X_test)):\n",
    "    # clf.loss_ assumes that y_test[i] in {0, 1}\n",
    "    test_deviance[i] = grd.loss_(y_test, grd_predicted)"
   ]
  },
  {
   "cell_type": "code",
   "execution_count": 70,
   "metadata": {
    "collapsed": false
   },
   "outputs": [
    {
     "name": "stdout",
     "output_type": "stream",
     "text": [
      "Average accuracy 0.9929'\n",
      "Predictions:\n",
      "0    40294\n",
      "1      667\n",
      "dtype: int64\n",
      "\n",
      "Confusion Matrix:\n",
      "\n",
      "          0-Predicted  1-Predicted\n",
      "0-Actual        40143          138\n",
      "1-Actual          151          529\n"
     ]
    },
    {
     "data": {
      "image/png": "[encoded data removed]",
      "text/plain": [
       "<matplotlib.figure.Figure at 0x118f991d0>"
      ]
     },
     "metadata": {},
     "output_type": "display_data"
    }
   ],
   "source": [
    "print \"Average accuracy %.4f'\" % model.score(X_test, y_test)\n",
    "print \"Predictions:\\n\", pd.value_counts(tree_predicted)\n",
    "print\n",
    "print \"Confusion Matrix:\\n\"\n",
    "print(get_confusion_matrix(y_test, tree_predicted))\n",
    "# Compute confusion matrix\n",
    "cm_6 = confusion_matrix(y_test, tree_predicted)\n",
    "\n",
    "pyplot.figure()\n",
    "plot_confusion_matrix(cm_6)"
   ]
  },
  {
   "cell_type": "code",
   "execution_count": 74,
   "metadata": {
    "collapsed": false
   },
   "outputs": [
    {
     "name": "stdout",
     "output_type": "stream",
     "text": [
      "12. feature 0 (0.389361)  impressions_fan_unique\n",
      "11. feature 1 (0.144771)  impressions_organic_unique\n",
      "10. feature 2 (0.109002)  impressions_by_story_type_unique_other\n",
      "9. feature 5 (0.064081)  consumptions_by_type_unique_other_clicks\n",
      "8. feature 6 (0.063806)  consumptions_unique\n",
      "7. feature 11 (0.051506)  video_complete_views_organic_unique\n",
      "6. feature 10 (0.033919)  video_views_organic_unique\n",
      "5. feature 3 (0.033266)  consumptions_by_type_unique_link_clicks\n",
      "4. feature 4 (0.031970)  consumptions_by_type_unique_photo_view\n",
      "3. feature 7 (0.030759)  negative_feedback_by_type_unique_hide_clicks\n",
      "2. feature 9 (0.028438)  negative_feedback_unique\n",
      "1. feature 8 (0.019122)  negative_feedback_by_type_unique_hide_all_clicks\n"
     ]
    }
   ],
   "source": [
    "model_impt = model.feature_importances_\n",
    "sorted_idx_tree = np.argsort(model_impt)\n",
    "\n",
    "for f in xrange(len(X.columns),0,-1):\n",
    "    print(\"%d. feature %d (%f)  %s\" % (f , sorted_idx_tree[f-1], model_impt[sorted_idx_tree[f-1]], X.columns[sorted_idx_tree[f-1]]))\n",
    "\n"
   ]
  },
  {
   "cell_type": "code",
   "execution_count": 77,
   "metadata": {
    "collapsed": false
   },
   "outputs": [],
   "source": [
    "from sklearn.ensemble import RandomForestClassifier\n",
    "rf = RandomForestClassifier(n_estimators = 500)\n",
    "rf.fit(X_train, y_train)\n",
    "rf_predicted = rf.predict(X_test)"
   ]
  },
  {
   "cell_type": "code",
   "execution_count": 78,
   "metadata": {
    "collapsed": false
   },
   "outputs": [
    {
     "name": "stdout",
     "output_type": "stream",
     "text": [
      "0.994921998975\n",
      "             precision    recall  f1-score   support\n",
      "\n",
      "    class 0       0.99      1.00      1.00     40281\n",
      "    class 1       1.00      0.69      0.82       680\n",
      "\n",
      "avg / total       0.99      0.99      0.99     40961\n",
      "\n"
     ]
    }
   ],
   "source": [
    "print rf.score(X_test, y_test)\n",
    "print (classification_report(y_test, rf_predicted, target_names= target_names))"
   ]
  }
 ],
 "metadata": {
  "kernelspec": {
   "display_name": "Python 2",
   "language": "python",
   "name": "python2"
  },
  "language_info": {
   "codemirror_mode": {
    "name": "ipython",
    "version": 2
   },
   "file_extension": ".py",
   "mimetype": "text/x-python",
   "name": "python",
   "nbconvert_exporter": "python",
   "pygments_lexer": "ipython2",
   "version": "2.7.13"
  }
 },
 "nbformat": 4,
 "nbformat_minor": 0
}
